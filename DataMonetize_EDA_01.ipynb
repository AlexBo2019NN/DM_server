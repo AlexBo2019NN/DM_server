{
  "nbformat": 4,
  "nbformat_minor": 0,
  "metadata": {
    "colab": {
      "name": "DataMonetize_EDA_01.ipynb",
      "provenance": [],
      "collapsed_sections": []
    },
    "kernelspec": {
      "name": "python3",
      "display_name": "Python 3"
    }
  },
  "cells": [
    {
      "cell_type": "markdown",
      "metadata": {
        "id": "Nnq2A-kIyt_4",
        "colab_type": "text"
      },
      "source": [
        "DataMonetize EDA by DataStalker. skype bam271074\n"
      ]
    },
    {
      "cell_type": "code",
      "metadata": {
        "id": "neEiR_y6RFEI",
        "colab_type": "code",
        "colab": {}
      },
      "source": [
        "# подгружаем необходимые библиотеки\n",
        "import numpy as np\n",
        "import pandas as pd\n",
        "import pyarrow.parquet as pq\n"
      ],
      "execution_count": 10,
      "outputs": []
    },
    {
      "cell_type": "code",
      "metadata": {
        "id": "5GtYxUoZRYse",
        "colab_type": "code",
        "colab": {
          "base_uri": "https://localhost:8080/",
          "height": 34
        },
        "outputId": "771a719b-ad3d-4bdf-a222-6470854ec837"
      },
      "source": [
        "#connect to google drive where dataset is\n",
        "from google.colab import drive\n",
        "drive.mount ('/content/gdrive', force_remount = True)"
      ],
      "execution_count": 11,
      "outputs": [
        {
          "output_type": "stream",
          "text": [
            "Mounted at /content/gdrive\n"
          ],
          "name": "stdout"
        }
      ]
    },
    {
      "cell_type": "code",
      "metadata": {
        "id": "OqZopdU0RzLQ",
        "colab_type": "code",
        "colab": {
          "base_uri": "https://localhost:8080/",
          "height": 34
        },
        "outputId": "11cf3114-3137-4ecb-992f-339a023f9152"
      },
      "source": [
        "!ls /content/gdrive/'My Drive'/dataset_DM_start"
      ],
      "execution_count": 12,
      "outputs": [
        {
          "output_type": "stream",
          "text": [
            "campaigns.csv  client_profile.csv  pokupki.csv\tproducts.csv  purchases.parquet\n"
          ],
          "name": "stdout"
        }
      ]
    },
    {
      "cell_type": "markdown",
      "metadata": {
        "id": "l4AW36v8SHEp",
        "colab_type": "text"
      },
      "source": [
        "Let s make dataframes"
      ]
    },
    {
      "cell_type": "code",
      "metadata": {
        "id": "uwNrI6KTSM4i",
        "colab_type": "code",
        "colab": {
          "base_uri": "https://localhost:8080/",
          "height": 134
        },
        "outputId": "cfeb938f-5282-45f9-df69-f77ad1157299"
      },
      "source": [
        "parquet_file = pq.ParquetFile('../content/gdrive/My Drive/dataset_DM_start/purchases.parquet')\n",
        "print(parquet_file.metadata)\n",
        "\n"
      ],
      "execution_count": null,
      "outputs": [
        {
          "output_type": "stream",
          "text": [
            "<pyarrow._parquet.FileMetaData object at 0x7f474071a688>\n",
            "  created_by: parquet-cpp version 1.5.1-SNAPSHOT\n",
            "  num_columns: 14\n",
            "  num_rows: 57249006\n",
            "  num_row_groups: 1\n",
            "  format_version: 1.0\n",
            "  serialized_size: 4194\n"
          ],
          "name": "stdout"
        }
      ]
    },
    {
      "cell_type": "code",
      "metadata": {
        "id": "qGDhwOlIaDNK",
        "colab_type": "code",
        "colab": {}
      },
      "source": [
        "table = pq.read_table('../content/gdrive/My Drive/dataset_DM_start/purchases.parquet',\\\n",
        "                      columns=['transaction_id','transaction_datetime'])"
      ],
      "execution_count": null,
      "outputs": []
    },
    {
      "cell_type": "code",
      "metadata": {
        "id": "Vczi7buOdNd_",
        "colab_type": "code",
        "colab": {
          "base_uri": "https://localhost:8080/",
          "height": 215
        },
        "outputId": "79c4e0c1-041d-44aa-d60a-60b053c8b5b6"
      },
      "source": [
        "purchases_df=pd.read_csv('../content/gdrive/My Drive/dataset_DM_start/pokupki.csv')\n",
        "purchases_df.head()\n"
      ],
      "execution_count": 13,
      "outputs": [
        {
          "output_type": "execute_result",
          "data": {
            "text/html": [
              "<div>\n",
              "<style scoped>\n",
              "    .dataframe tbody tr th:only-of-type {\n",
              "        vertical-align: middle;\n",
              "    }\n",
              "\n",
              "    .dataframe tbody tr th {\n",
              "        vertical-align: top;\n",
              "    }\n",
              "\n",
              "    .dataframe thead th {\n",
              "        text-align: right;\n",
              "    }\n",
              "</style>\n",
              "<table border=\"1\" class=\"dataframe\">\n",
              "  <thead>\n",
              "    <tr style=\"text-align: right;\">\n",
              "      <th></th>\n",
              "      <th>client_id</th>\n",
              "      <th>transaction_id</th>\n",
              "      <th>transaction_datetime</th>\n",
              "      <th>regular_points_received</th>\n",
              "      <th>express_points_received</th>\n",
              "      <th>regular_points_spent</th>\n",
              "      <th>express_points_spent</th>\n",
              "      <th>purchase_sum</th>\n",
              "      <th>store_id</th>\n",
              "      <th>product_id</th>\n",
              "      <th>product_quantity</th>\n",
              "      <th>trn_sum_from_iss</th>\n",
              "      <th>trn_sum_from_red</th>\n",
              "    </tr>\n",
              "  </thead>\n",
              "  <tbody>\n",
              "    <tr>\n",
              "      <th>0</th>\n",
              "      <td>000012768d</td>\n",
              "      <td>7e3e2e3984</td>\n",
              "      <td>2018-12-01 07:12:45</td>\n",
              "      <td>10.0</td>\n",
              "      <td>0.0</td>\n",
              "      <td>0.0</td>\n",
              "      <td>0.0</td>\n",
              "      <td>1007.0</td>\n",
              "      <td>54a4a11a29</td>\n",
              "      <td>9a80204f78</td>\n",
              "      <td>2.0</td>\n",
              "      <td>80.0</td>\n",
              "      <td>NaN</td>\n",
              "    </tr>\n",
              "    <tr>\n",
              "      <th>1</th>\n",
              "      <td>000012768d</td>\n",
              "      <td>7e3e2e3984</td>\n",
              "      <td>2018-12-01 07:12:45</td>\n",
              "      <td>10.0</td>\n",
              "      <td>0.0</td>\n",
              "      <td>0.0</td>\n",
              "      <td>0.0</td>\n",
              "      <td>1007.0</td>\n",
              "      <td>54a4a11a29</td>\n",
              "      <td>da89ebd374</td>\n",
              "      <td>1.0</td>\n",
              "      <td>65.0</td>\n",
              "      <td>NaN</td>\n",
              "    </tr>\n",
              "    <tr>\n",
              "      <th>2</th>\n",
              "      <td>000012768d</td>\n",
              "      <td>7e3e2e3984</td>\n",
              "      <td>2018-12-01 07:12:45</td>\n",
              "      <td>10.0</td>\n",
              "      <td>0.0</td>\n",
              "      <td>0.0</td>\n",
              "      <td>0.0</td>\n",
              "      <td>1007.0</td>\n",
              "      <td>54a4a11a29</td>\n",
              "      <td>0a95e1151d</td>\n",
              "      <td>1.0</td>\n",
              "      <td>24.0</td>\n",
              "      <td>NaN</td>\n",
              "    </tr>\n",
              "    <tr>\n",
              "      <th>3</th>\n",
              "      <td>000012768d</td>\n",
              "      <td>7e3e2e3984</td>\n",
              "      <td>2018-12-01 07:12:45</td>\n",
              "      <td>10.0</td>\n",
              "      <td>0.0</td>\n",
              "      <td>0.0</td>\n",
              "      <td>0.0</td>\n",
              "      <td>1007.0</td>\n",
              "      <td>54a4a11a29</td>\n",
              "      <td>4055b15e4a</td>\n",
              "      <td>2.0</td>\n",
              "      <td>50.0</td>\n",
              "      <td>NaN</td>\n",
              "    </tr>\n",
              "    <tr>\n",
              "      <th>4</th>\n",
              "      <td>000012768d</td>\n",
              "      <td>7e3e2e3984</td>\n",
              "      <td>2018-12-01 07:12:45</td>\n",
              "      <td>10.0</td>\n",
              "      <td>0.0</td>\n",
              "      <td>0.0</td>\n",
              "      <td>0.0</td>\n",
              "      <td>1007.0</td>\n",
              "      <td>54a4a11a29</td>\n",
              "      <td>a685f1916b</td>\n",
              "      <td>1.0</td>\n",
              "      <td>22.0</td>\n",
              "      <td>NaN</td>\n",
              "    </tr>\n",
              "  </tbody>\n",
              "</table>\n",
              "</div>"
            ],
            "text/plain": [
              "    client_id transaction_id  ... trn_sum_from_iss  trn_sum_from_red\n",
              "0  000012768d     7e3e2e3984  ...             80.0               NaN\n",
              "1  000012768d     7e3e2e3984  ...             65.0               NaN\n",
              "2  000012768d     7e3e2e3984  ...             24.0               NaN\n",
              "3  000012768d     7e3e2e3984  ...             50.0               NaN\n",
              "4  000012768d     7e3e2e3984  ...             22.0               NaN\n",
              "\n",
              "[5 rows x 13 columns]"
            ]
          },
          "metadata": {
            "tags": []
          },
          "execution_count": 13
        }
      ]
    },
    {
      "cell_type": "code",
      "metadata": {
        "id": "GY6bUupzeL8W",
        "colab_type": "code",
        "colab": {
          "base_uri": "https://localhost:8080/",
          "height": 118
        },
        "outputId": "6dd06484-8bcc-4afa-b214-73a143eecae6"
      },
      "source": [
        "purchases_df.columns"
      ],
      "execution_count": 15,
      "outputs": [
        {
          "output_type": "execute_result",
          "data": {
            "text/plain": [
              "Index(['client_id', 'transaction_id', 'transaction_datetime',\n",
              "       'regular_points_received', 'express_points_received',\n",
              "       'regular_points_spent', 'express_points_spent', 'purchase_sum',\n",
              "       'store_id', 'product_id', 'product_quantity', 'trn_sum_from_iss',\n",
              "       'trn_sum_from_red'],\n",
              "      dtype='object')"
            ]
          },
          "metadata": {
            "tags": []
          },
          "execution_count": 15
        }
      ]
    },
    {
      "cell_type": "code",
      "metadata": {
        "id": "X6e2hP9EROSO",
        "colab_type": "code",
        "colab": {
          "base_uri": "https://localhost:8080/",
          "height": 195
        },
        "outputId": "3091ba65-9cca-45bd-daeb-f87f965ba0e1"
      },
      "source": [
        "clients_df=pd.read_csv('../content/gdrive/My Drive/dataset_DM_start/client_profile.csv')\n",
        "clients_df.head()"
      ],
      "execution_count": 17,
      "outputs": [
        {
          "output_type": "execute_result",
          "data": {
            "text/html": [
              "<div>\n",
              "<style scoped>\n",
              "    .dataframe tbody tr th:only-of-type {\n",
              "        vertical-align: middle;\n",
              "    }\n",
              "\n",
              "    .dataframe tbody tr th {\n",
              "        vertical-align: top;\n",
              "    }\n",
              "\n",
              "    .dataframe thead th {\n",
              "        text-align: right;\n",
              "    }\n",
              "</style>\n",
              "<table border=\"1\" class=\"dataframe\">\n",
              "  <thead>\n",
              "    <tr style=\"text-align: right;\">\n",
              "      <th></th>\n",
              "      <th>client_id</th>\n",
              "      <th>first_issue_date</th>\n",
              "      <th>first_redeem_date</th>\n",
              "      <th>age</th>\n",
              "      <th>gender</th>\n",
              "    </tr>\n",
              "  </thead>\n",
              "  <tbody>\n",
              "    <tr>\n",
              "      <th>0</th>\n",
              "      <td>0012fbc750ef4ea6df3033a871293631</td>\n",
              "      <td>2018-07-06 19:36:04</td>\n",
              "      <td>2018-07-29 18:52:30</td>\n",
              "      <td>52</td>\n",
              "      <td>F</td>\n",
              "    </tr>\n",
              "    <tr>\n",
              "      <th>1</th>\n",
              "      <td>002e7fd44c15546b05c430fcf099af68</td>\n",
              "      <td>2017-07-14 16:27:35</td>\n",
              "      <td>2017-09-01 18:59:59</td>\n",
              "      <td>60</td>\n",
              "      <td>M</td>\n",
              "    </tr>\n",
              "    <tr>\n",
              "      <th>2</th>\n",
              "      <td>00508cdd6ac2c10851c9d27cd101f2ef</td>\n",
              "      <td>2017-10-10 12:22:44</td>\n",
              "      <td>2018-03-15 12:06:35</td>\n",
              "      <td>82</td>\n",
              "      <td>M</td>\n",
              "    </tr>\n",
              "    <tr>\n",
              "      <th>3</th>\n",
              "      <td>008fb49e3aeae9ee74ca2f233520976e</td>\n",
              "      <td>2017-11-26 11:21:29</td>\n",
              "      <td>2018-05-31 13:07:59</td>\n",
              "      <td>40</td>\n",
              "      <td>U</td>\n",
              "    </tr>\n",
              "    <tr>\n",
              "      <th>4</th>\n",
              "      <td>0095340accfbedb931291477bd1f5dcb</td>\n",
              "      <td>2018-02-21 19:08:56</td>\n",
              "      <td>2018-10-14 15:48:53</td>\n",
              "      <td>21</td>\n",
              "      <td>U</td>\n",
              "    </tr>\n",
              "  </tbody>\n",
              "</table>\n",
              "</div>"
            ],
            "text/plain": [
              "                          client_id     first_issue_date  ... age  gender\n",
              "0  0012fbc750ef4ea6df3033a871293631  2018-07-06 19:36:04  ...  52       F\n",
              "1  002e7fd44c15546b05c430fcf099af68  2017-07-14 16:27:35  ...  60       M\n",
              "2  00508cdd6ac2c10851c9d27cd101f2ef  2017-10-10 12:22:44  ...  82       M\n",
              "3  008fb49e3aeae9ee74ca2f233520976e  2017-11-26 11:21:29  ...  40       U\n",
              "4  0095340accfbedb931291477bd1f5dcb  2018-02-21 19:08:56  ...  21       U\n",
              "\n",
              "[5 rows x 5 columns]"
            ]
          },
          "metadata": {
            "tags": []
          },
          "execution_count": 17
        }
      ]
    },
    {
      "cell_type": "code",
      "metadata": {
        "id": "EdegGfpJyXHi",
        "colab_type": "code",
        "colab": {
          "base_uri": "https://localhost:8080/",
          "height": 34
        },
        "outputId": "e516d022-692b-41fd-a888-e6515e14233a"
      },
      "source": [
        "clients_df.client_id.nunique() #number of clients"
      ],
      "execution_count": 18,
      "outputs": [
        {
          "output_type": "execute_result",
          "data": {
            "text/plain": [
              "500000"
            ]
          },
          "metadata": {
            "tags": []
          },
          "execution_count": 18
        }
      ]
    },
    {
      "cell_type": "code",
      "metadata": {
        "id": "FZgP7AlVMuCO",
        "colab_type": "code",
        "colab": {
          "base_uri": "https://localhost:8080/",
          "height": 215
        },
        "outputId": "60c9d1e1-92a4-418a-dc2d-1cd9cf19d9ac"
      },
      "source": [
        "products_df=pd.read_csv('../content/gdrive/My Drive/dataset_DM_start/products.csv')\n",
        "\n",
        "products_df.head()"
      ],
      "execution_count": 20,
      "outputs": [
        {
          "output_type": "execute_result",
          "data": {
            "text/html": [
              "<div>\n",
              "<style scoped>\n",
              "    .dataframe tbody tr th:only-of-type {\n",
              "        vertical-align: middle;\n",
              "    }\n",
              "\n",
              "    .dataframe tbody tr th {\n",
              "        vertical-align: top;\n",
              "    }\n",
              "\n",
              "    .dataframe thead th {\n",
              "        text-align: right;\n",
              "    }\n",
              "</style>\n",
              "<table border=\"1\" class=\"dataframe\">\n",
              "  <thead>\n",
              "    <tr style=\"text-align: right;\">\n",
              "      <th></th>\n",
              "      <th>product_id</th>\n",
              "      <th>level_1</th>\n",
              "      <th>level_2</th>\n",
              "      <th>level_3</th>\n",
              "      <th>level_4</th>\n",
              "      <th>segment_id</th>\n",
              "      <th>brand_id</th>\n",
              "      <th>vendor_id</th>\n",
              "      <th>netto</th>\n",
              "      <th>is_own_trademark</th>\n",
              "      <th>is_alcohol</th>\n",
              "    </tr>\n",
              "  </thead>\n",
              "  <tbody>\n",
              "    <tr>\n",
              "      <th>0</th>\n",
              "      <td>1fb580439559efba981fca3aeaa51603</td>\n",
              "      <td>c3d3a8e8c65641a5506c5e0822bc52e2</td>\n",
              "      <td>f93982269d205571c4e94814aec8a29c</td>\n",
              "      <td>852a53f2570d1745ab6ce5cea7cac43c</td>\n",
              "      <td>f3d7acb2aab1b6b3c71eae45369b289f</td>\n",
              "      <td>259.0</td>\n",
              "      <td>67ca3be6f95957f372556d29117fc266</td>\n",
              "      <td>a9eb455ec71c0a2694c5958f6f93c01c</td>\n",
              "      <td>0.30</td>\n",
              "      <td>0</td>\n",
              "      <td>0</td>\n",
              "    </tr>\n",
              "    <tr>\n",
              "      <th>1</th>\n",
              "      <td>16ecd66f937aa31fa37f15f87817eedb</td>\n",
              "      <td>c3d3a8e8c65641a5506c5e0822bc52e2</td>\n",
              "      <td>f93982269d205571c4e94814aec8a29c</td>\n",
              "      <td>852a53f2570d1745ab6ce5cea7cac43c</td>\n",
              "      <td>f3d7acb2aab1b6b3c71eae45369b289f</td>\n",
              "      <td>259.0</td>\n",
              "      <td>67ca3be6f95957f372556d29117fc266</td>\n",
              "      <td>a9eb455ec71c0a2694c5958f6f93c01c</td>\n",
              "      <td>0.70</td>\n",
              "      <td>0</td>\n",
              "      <td>0</td>\n",
              "    </tr>\n",
              "    <tr>\n",
              "      <th>2</th>\n",
              "      <td>15f35e4ae5bcb0d2dd86ead4087200da</td>\n",
              "      <td>c3d3a8e8c65641a5506c5e0822bc52e2</td>\n",
              "      <td>f93982269d205571c4e94814aec8a29c</td>\n",
              "      <td>852a53f2570d1745ab6ce5cea7cac43c</td>\n",
              "      <td>f3d7acb2aab1b6b3c71eae45369b289f</td>\n",
              "      <td>259.0</td>\n",
              "      <td>67ca3be6f95957f372556d29117fc266</td>\n",
              "      <td>a9eb455ec71c0a2694c5958f6f93c01c</td>\n",
              "      <td>0.36</td>\n",
              "      <td>0</td>\n",
              "      <td>0</td>\n",
              "    </tr>\n",
              "    <tr>\n",
              "      <th>3</th>\n",
              "      <td>537c9c7ff2bb439d60cc0a402bb364db</td>\n",
              "      <td>c3d3a8e8c65641a5506c5e0822bc52e2</td>\n",
              "      <td>f93982269d205571c4e94814aec8a29c</td>\n",
              "      <td>852a53f2570d1745ab6ce5cea7cac43c</td>\n",
              "      <td>f3d7acb2aab1b6b3c71eae45369b289f</td>\n",
              "      <td>259.0</td>\n",
              "      <td>4da2dc345f4844de9f3d264689b14a11</td>\n",
              "      <td>a9eb455ec71c0a2694c5958f6f93c01c</td>\n",
              "      <td>0.60</td>\n",
              "      <td>0</td>\n",
              "      <td>0</td>\n",
              "    </tr>\n",
              "    <tr>\n",
              "      <th>4</th>\n",
              "      <td>4a6589e97b2a8a9a71929f5ef1d47851</td>\n",
              "      <td>c3d3a8e8c65641a5506c5e0822bc52e2</td>\n",
              "      <td>f93982269d205571c4e94814aec8a29c</td>\n",
              "      <td>852a53f2570d1745ab6ce5cea7cac43c</td>\n",
              "      <td>f3d7acb2aab1b6b3c71eae45369b289f</td>\n",
              "      <td>259.0</td>\n",
              "      <td>c56cfe6e56132a266666af1365ecddc9</td>\n",
              "      <td>7a917b3ae0f69994e7afda12d1dd87e0</td>\n",
              "      <td>0.80</td>\n",
              "      <td>0</td>\n",
              "      <td>0</td>\n",
              "    </tr>\n",
              "  </tbody>\n",
              "</table>\n",
              "</div>"
            ],
            "text/plain": [
              "                         product_id  ... is_alcohol\n",
              "0  1fb580439559efba981fca3aeaa51603  ...          0\n",
              "1  16ecd66f937aa31fa37f15f87817eedb  ...          0\n",
              "2  15f35e4ae5bcb0d2dd86ead4087200da  ...          0\n",
              "3  537c9c7ff2bb439d60cc0a402bb364db  ...          0\n",
              "4  4a6589e97b2a8a9a71929f5ef1d47851  ...          0\n",
              "\n",
              "[5 rows x 11 columns]"
            ]
          },
          "metadata": {
            "tags": []
          },
          "execution_count": 20
        }
      ]
    },
    {
      "cell_type": "code",
      "metadata": {
        "id": "KiHq4X8nR7Sf",
        "colab_type": "code",
        "colab": {
          "base_uri": "https://localhost:8080/",
          "height": 34
        },
        "outputId": "8020e2e9-eca1-47e4-93f6-ad0a9e59aeef"
      },
      "source": [
        "products_df.product_id.nunique() #number of products"
      ],
      "execution_count": 21,
      "outputs": [
        {
          "output_type": "execute_result",
          "data": {
            "text/plain": [
              "43038"
            ]
          },
          "metadata": {
            "tags": []
          },
          "execution_count": 21
        }
      ]
    },
    {
      "cell_type": "code",
      "metadata": {
        "id": "kWDe8egdSN_-",
        "colab_type": "code",
        "colab": {
          "base_uri": "https://localhost:8080/",
          "height": 282
        },
        "outputId": "7b125bcf-0aa1-4cdd-cbe8-4c475e95df77"
      },
      "source": [
        "clients_df.gender.clip().hist()"
      ],
      "execution_count": 22,
      "outputs": [
        {
          "output_type": "execute_result",
          "data": {
            "text/plain": [
              "<matplotlib.axes._subplots.AxesSubplot at 0x7fca5b222c50>"
            ]
          },
          "metadata": {
            "tags": []
          },
          "execution_count": 22
        },
        {
          "output_type": "display_data",
          "data": {
            "image/png": "[encoded data removed]",
            "text/plain": [
              "<Figure size 432x288 with 1 Axes>"
            ]
          },
          "metadata": {
            "tags": [],
            "needs_background": "light"
          }
        }
      ]
    },
    {
      "cell_type": "code",
      "metadata": {
        "id": "AcHNwpWgV7G6",
        "colab_type": "code",
        "colab": {}
      },
      "source": [
        ""
      ],
      "execution_count": null,
      "outputs": []
    }
  ]
}